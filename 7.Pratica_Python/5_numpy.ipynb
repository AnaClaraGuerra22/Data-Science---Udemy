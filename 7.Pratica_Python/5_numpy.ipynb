{
 "cells": [
  {
   "cell_type": "code",
   "execution_count": 4,
   "id": "58db0117-37fe-4611-a9a0-494e06058064",
   "metadata": {},
   "outputs": [],
   "source": [
    "import numpy as np"
   ]
  },
  {
   "cell_type": "code",
   "execution_count": 4,
   "id": "aefe5457-9f18-4b9d-89f4-3bb825a72713",
   "metadata": {},
   "outputs": [
    {
     "name": "stdout",
     "output_type": "stream",
     "text": [
      "[ 4  8 12 16 20 24]\n",
      "<class 'numpy.ndarray'>\n"
     ]
    }
   ],
   "source": [
    "#cria uma matriz unidimensional\n",
    "mt = np.array([4,8,12,16,20,24])\n",
    "print(mt)\n",
    "print(type(mt))"
   ]
  },
  {
   "cell_type": "code",
   "execution_count": 10,
   "id": "22071116-1efb-4bda-810f-6bb8541c9b8c",
   "metadata": {},
   "outputs": [
    {
     "name": "stdout",
     "output_type": "stream",
     "text": [
      "[1.5 2.  3. ]\n",
      "<class 'numpy.ndarray'>\n",
      "[1 2 3]\n",
      "<class 'numpy.ndarray'>\n"
     ]
    }
   ],
   "source": [
    "#cria um array com um tipo especifico\n",
    "# array como float de 64 bits\n",
    "mtfloat = np.array([1.5,2.0,3], dtype = np.float64)\n",
    "print(mtfloat)\n",
    "print(type(mtfloat))\n",
    "\n",
    "#tipo inteiro 32 bits\n",
    "mtint = np.array([1,2,3], dtype = np.int32)\n",
    "print(mtint)\n",
    "print(type(mtint))"
   ]
  },
  {
   "cell_type": "code",
   "execution_count": 12,
   "id": "b8546004-9ec0-47eb-b325-589c3acba31d",
   "metadata": {},
   "outputs": [
    {
     "name": "stdout",
     "output_type": "stream",
     "text": [
      "[ 4.  8. 12. 16. 20. 24.]\n",
      "<class 'numpy.ndarray'>\n"
     ]
    }
   ],
   "source": [
    "#mudar o tipo de array\n",
    "mtnewfloat = mt.astype(np.float64)\n",
    "print(mtnewfloat)\n",
    "print(type(mtnewfloat))"
   ]
  },
  {
   "cell_type": "code",
   "execution_count": 16,
   "id": "14acfccd-8776-41dc-9f7c-26063b9e2b33",
   "metadata": {},
   "outputs": [
    {
     "name": "stdout",
     "output_type": "stream",
     "text": [
      "[[  1   2   3]\n",
      " [ 10  20  30]\n",
      " [100 200 300]]\n",
      "<class 'numpy.ndarray'>\n"
     ]
    }
   ],
   "source": [
    "#matriz bidimensional\n",
    "mt1 = np.array([[1,2,3],[10,20,30],[100,200,300]])\n",
    "print(mt1)\n",
    "print(type(mt1))"
   ]
  },
  {
   "cell_type": "code",
   "execution_count": 26,
   "id": "cd83cb64-72f2-44ef-9d2a-e3c9811254b6",
   "metadata": {},
   "outputs": [
    {
     "name": "stdout",
     "output_type": "stream",
     "text": [
      "[[         0 1073217536]\n",
      " [         0 1073741824]\n",
      " [         0 1074266112]]\n",
      "------\n",
      "[[0 0 0]\n",
      " [0 0 0]\n",
      " [0 0 0]\n",
      " [0 0 0]]\n",
      "------\n",
      "[[1. 1. 1. 1. 1. 1. 1.]\n",
      " [1. 1. 1. 1. 1. 1. 1.]\n",
      " [1. 1. 1. 1. 1. 1. 1.]\n",
      " [1. 1. 1. 1. 1. 1. 1.]\n",
      " [1. 1. 1. 1. 1. 1. 1.]]\n",
      "------\n",
      "[[1. 0. 0. 0. 0.]\n",
      " [0. 1. 0. 0. 0.]\n",
      " [0. 0. 1. 0. 0.]\n",
      " [0. 0. 0. 1. 0.]\n",
      " [0. 0. 0. 0. 1.]]\n"
     ]
    }
   ],
   "source": [
    "#criar arrays vazios tipificados\n",
    "#empty --> nao sao incializados, mas nao significa que sao vazios\n",
    "#vai ter valores lixos nas posiçoes\n",
    "\n",
    "vazio = np.empty([3,2], dtype = int)\n",
    "print(vazio)\n",
    "print(\"------\")\n",
    "\n",
    "#cria uma matriz 4x3 com valores 0\n",
    "zeros = np.zeros([4,3], dtype = int)\n",
    "print(zeros)\n",
    "print(\"------\")\n",
    "\n",
    "#cria uma matriz 5x7 com valores 1\n",
    "um = np.ones([5,7])\n",
    "print(um)\n",
    "print(\"------\")\n",
    "\n",
    "#croa matriz quadrada 5x5 com diagonal principal com valores 1 e os outros com valores 0\n",
    "diag = np.eye(5)\n",
    "print(diag)"
   ]
  },
  {
   "cell_type": "code",
   "execution_count": 41,
   "id": "86510cde-2084-4abd-a577-934a4acdf42b",
   "metadata": {},
   "outputs": [
    {
     "name": "stdout",
     "output_type": "stream",
     "text": [
      "[0.9561878  0.66689113 0.94399071 0.09564566 0.11340715]\n",
      "------------\n",
      "[ 0.06565216  1.34641149  0.1255515  -0.52241563  1.2735289 ]\n",
      "------------\n",
      "[[2.12349135 6.15379841 5.87788816 6.35437108]\n",
      " [3.51790455 2.27998161 5.53048252 5.78952845]\n",
      " [5.78084095 4.03031662 7.19674836 1.89481101]]\n",
      "------------\n"
     ]
    }
   ],
   "source": [
    "#5 valores aleatorios entre 0 e 1\n",
    "ale = np.random.random((5))\n",
    "print(ale)\n",
    "print(\"------------\")\n",
    "\n",
    "#5 valores aleatorios distribuiçao normal contendo negativos\n",
    "aledistr = np.random.randn((5))\n",
    "print(aledistr)\n",
    "print(\"------------\")\n",
    "\n",
    "#matriz de valores aleatorios 3x4\n",
    "#cada valor foi multiplicados por 10 para obter valores maiores\n",
    "ale2 = (10*np.random.random((3,4)))\n",
    "print(ale2)\n",
    "print(\"------------\")"
   ]
  },
  {
   "cell_type": "code",
   "execution_count": 50,
   "id": "2c2104e3-1375-4611-88ad-4b5f4b2e2e41",
   "metadata": {},
   "outputs": [
    {
     "name": "stdout",
     "output_type": "stream",
     "text": [
      "[0.51182162]\n",
      "------------\n",
      "[[7 9 0 1]\n",
      " [8 9 2 3]\n",
      " [8 4 2 8]]\n",
      "------------\n"
     ]
    }
   ],
   "source": [
    "#outra maneira de gerar valores aleatorios\n",
    "#uso de SEMENTE ---> a semente é o valor 1\n",
    "#sempre que repetir esse codigo, os numeros gerados serao os mesmos\n",
    "gnr = np.random.default_rng(1)\n",
    "ale3 = gnr.random(1)\n",
    "print(ale3)\n",
    "print(\"------------\")\n",
    "\n",
    "#gerar inteiros\n",
    "# 10 ---> pode ser de 0 ate 10\n",
    "#3,4 ---> matriz 3x4\n",
    "ale4 = gnr.integers(10, size=(3,4))\n",
    "print(ale4)\n",
    "print(\"------------\")"
   ]
  },
  {
   "cell_type": "code",
   "execution_count": 54,
   "id": "c007561a-a310-4fae-bb7c-2178355f5de4",
   "metadata": {},
   "outputs": [
    {
     "name": "stdout",
     "output_type": "stream",
     "text": [
      "[10 11 12 13 10 11 12 13 20]\n",
      "---------\n",
      "[10 11 12 13 20]\n"
     ]
    }
   ],
   "source": [
    "#unique remove repetições\n",
    "j = np.array([10,11,12,13,10,11,12,13,20])\n",
    "print(j)\n",
    "print(\"---------\")\n",
    "j = np.unique(j)\n",
    "print(j)"
   ]
  },
  {
   "cell_type": "code",
   "execution_count": 60,
   "id": "2615f344-6acd-4d65-be54-bd90a08ca8cd",
   "metadata": {},
   "outputs": [
    {
     "name": "stdout",
     "output_type": "stream",
     "text": [
      "[[17 18 19]\n",
      " [15 16 17]\n",
      " [12 13 14]]\n",
      "------------\n",
      "18\n",
      "------------\n",
      "(3, 3)\n"
     ]
    }
   ],
   "source": [
    "#funções especificas\n",
    "#cria a matriz bidimensional k\n",
    "k = np.array([[17,18,19],[15,16,17], [12,13,14]])\n",
    "print(k)\n",
    "print(\"------------\")\n",
    "print(k[0][1])\n",
    "print(\"------------\")\n",
    "#o tamanho das dimensoes da matriz\n",
    "print(k.shape)"
   ]
  },
  {
   "cell_type": "code",
   "execution_count": 66,
   "id": "c60a9c6b-dbf8-419d-ad4f-1e7f7dee1cc5",
   "metadata": {},
   "outputs": [
    {
     "name": "stdout",
     "output_type": "stream",
     "text": [
      "Maior valor da matriz k:  19\n",
      "Menor valor da matriz k:  12\n",
      "Soma dos valores da matriz k:  141\n",
      "Media dos valores da matriz k:  15.666666666666666\n",
      "Desvio padrao dos valores da matriz k:  2.211083193570267\n"
     ]
    }
   ],
   "source": [
    "#funçoes matematicas\n",
    "print(\"Maior valor da matriz k: \", k.max())\n",
    "print(\"Menor valor da matriz k: \", k.min())\n",
    "print(\"Soma dos valores da matriz k: \", k.sum())\n",
    "print(\"Media dos valores da matriz k: \", k.mean())\n",
    "print(\"Desvio padrao dos valores da matriz k: \", k.std())"
   ]
  },
  {
   "cell_type": "code",
   "execution_count": 70,
   "id": "5f22ac4e-1fdc-4ba2-a817-7ecd1ccf2671",
   "metadata": {},
   "outputs": [
    {
     "name": "stdout",
     "output_type": "stream",
     "text": [
      "[ 1  4  9 16 25 36]\n",
      "Valor da raiz quadrada de cada elemento:  [1. 2. 3. 4. 5. 6.]\n",
      "Valor exponencial de cada elemento:  [2.71828183e+00 5.45981500e+01 8.10308393e+03 8.88611052e+06\n",
      " 7.20048993e+10 4.31123155e+15]\n"
     ]
    }
   ],
   "source": [
    "#funções universais, aplicadas a todos os elementos\n",
    "k1 = np.array([1,4,9,16,25,36])\n",
    "print(k1)\n",
    "print(\"Valor da raiz quadrada de cada elemento: \", np.sqrt(k1))\n",
    "print(\"Valor exponencial de cada elemento: \", np.exp(k1))"
   ]
  },
  {
   "cell_type": "code",
   "execution_count": 80,
   "id": "a47af92e-55ed-40dc-a63b-118bc97ef630",
   "metadata": {},
   "outputs": [
    {
     "name": "stdout",
     "output_type": "stream",
     "text": [
      "[1 2 3 4 5 6]\n",
      "2\n",
      "------------\n",
      "[1 2]\n",
      "------------\n",
      "[2 3 4 5 6]\n",
      "------------\n",
      "[4 5 6]\n",
      "------------\n"
     ]
    }
   ],
   "source": [
    "#extração de elementos\n",
    "m = np.array([1,2,3,4,5,6])\n",
    "print(m)\n",
    "print(m[1])\n",
    "print(\"------------\")\n",
    "\n",
    "#mostra o array criado a partir da posiçao 0, dois elementos, ignora o ultimo valor do intervalo [0,2[ aberto\n",
    "print(m[0:2])\n",
    "print(\"------------\")\n",
    "\n",
    "#mostra o array a partir da segunda posiçao (pos 1 ) ate o final\n",
    "print(m[1:])\n",
    "print(\"------------\")\n",
    "\n",
    "#mostra o array a partir da antepenultima posiçao ate o final\n",
    "print(m[-3:])\n",
    "print(\"------------\")"
   ]
  },
  {
   "cell_type": "code",
   "execution_count": 88,
   "id": "a5e5a232-d167-4d0e-bbc1-1c0ddf331111",
   "metadata": {},
   "outputs": [
    {
     "name": "stdout",
     "output_type": "stream",
     "text": [
      "[[4 5]\n",
      " [6 7]\n",
      " [8 9]]\n",
      "------------\n",
      "Primeira linha, todas as colunas:  [4 5]\n",
      "------------\n",
      "Primeira coluna, todas as linhas:  [4 6 8]\n",
      "------------\n",
      "Segunda coluna, todas as linhas:  [5 7 9]\n",
      "------------\n"
     ]
    }
   ],
   "source": [
    "#extração de linhas e colunas\n",
    "l = np.array([[4,5], [6,7], [8,9]])\n",
    "print(l)\n",
    "print(\"------------\")\n",
    "\n",
    "l_linha1 = l[0, :]\n",
    "print(\"Primeira linha, todas as colunas: \", l_linha1)\n",
    "print(\"------------\")\n",
    "\n",
    "l_col1 = l[:, 0]\n",
    "print(\"Primeira coluna, todas as linhas: \", l_col1)\n",
    "print(\"------------\")\n",
    "\n",
    "l_col2 = l[:, 1]\n",
    "print(\"Segunda coluna, todas as linhas: \", l_col2)\n",
    "print(\"------------\")"
   ]
  },
  {
   "cell_type": "code",
   "execution_count": 96,
   "id": "9313ccd0-312e-483f-ac1e-bef96f0f962e",
   "metadata": {},
   "outputs": [
    {
     "name": "stdout",
     "output_type": "stream",
     "text": [
      "[[1 2]\n",
      " [3 4]]\n",
      "[[1 1]\n",
      " [1 1]]\n",
      "------------\n",
      "A soma das matrizes: \n",
      " [[2 3]\n",
      " [4 5]]\n",
      "------------\n",
      "A multiplicação das matrizes: \n",
      " [[1 2]\n",
      " [3 4]]\n"
     ]
    }
   ],
   "source": [
    "#adiçao e multiplicaçao de matrizes\n",
    "n = np.array([[1,2], [3,4]])\n",
    "o = np.array([[1,1], [1,1]])\n",
    "print(n)\n",
    "print(o)\n",
    "print(\"------------\")\n",
    "\n",
    "res1 = n+o\n",
    "print(\"A soma das matrizes: \\n\" , res1)\n",
    "print(\"------------\")\n",
    "\n",
    "res2 = n*o\n",
    "print(\"A multiplicação das matrizes: \\n\", res2)"
   ]
  },
  {
   "cell_type": "code",
   "execution_count": 104,
   "id": "6a17bdde-fe10-4256-8953-084c75435ae2",
   "metadata": {},
   "outputs": [
    {
     "name": "stdout",
     "output_type": "stream",
     "text": [
      "Soma:\n",
      " [[2 3]\n",
      " [2 3]]\n",
      "Multiplição:\n",
      " [[1 2]\n",
      " [1 2]]\n"
     ]
    }
   ],
   "source": [
    "#adiçao e multiplicaçao em matrizes de dimensoes da linha diferentes\n",
    "p = np.array([[1,2], [1,2]])\n",
    "q = np.array([[1,1]])\n",
    "print(\"Soma:\\n\" ,p+q)\n",
    "print(\"Multiplição:\\n\", p*q)"
   ]
  },
  {
   "cell_type": "code",
   "execution_count": 8,
   "id": "fa153de2-54cc-4e78-8341-b78773868e6e",
   "metadata": {},
   "outputs": [
    {
     "name": "stdout",
     "output_type": "stream",
     "text": [
      "[[ 0  1  2  3  4]\n",
      " [ 5  6  7  8  9]\n",
      " [10 11 12 13 14]]\n",
      "------------\n",
      "[[ 0  5 10]\n",
      " [ 1  6 11]\n",
      " [ 2  7 12]\n",
      " [ 3  8 13]\n",
      " [ 4  9 14]]\n"
     ]
    }
   ],
   "source": [
    "#transposição\n",
    "#rearranja um conjunto de 15 elementos de 0 a 14 em 3 linhas e 5 colunas\n",
    "f = np.arange(15).reshape((3,5))\n",
    "print(f)\n",
    "print(\"------------\")\n",
    "\n",
    "#transposta a matriz f\n",
    "print(f.T)\n",
    "\n"
   ]
  },
  {
   "cell_type": "code",
   "execution_count": 10,
   "id": "18d0aee0-00ba-4983-94de-84c498fed0aa",
   "metadata": {},
   "outputs": [
    {
     "name": "stdout",
     "output_type": "stream",
     "text": [
      "[[ 0  1  2  3  4]\n",
      " [ 5  6  7  8  9]\n",
      " [10 11 12 13 14]]\n",
      "------------\n",
      "[[ 0  5 10]\n",
      " [ 1  6 11]\n",
      " [ 2  7 12]\n",
      " [ 3  8 13]\n",
      " [ 4  9 14]]\n"
     ]
    }
   ],
   "source": [
    "#outro jeito de transpor\n",
    "r = np.arange(15).reshape((3,5))\n",
    "print(r)\n",
    "print(\"------------\")\n",
    "\n",
    "s = r.transpose((1,0))\n",
    "print(s)"
   ]
  },
  {
   "cell_type": "code",
   "execution_count": 21,
   "id": "a229b6cf-22c0-41f1-86c4-a1551cf2f835",
   "metadata": {},
   "outputs": [
    {
     "name": "stdout",
     "output_type": "stream",
     "text": [
      "[[-1.39697647  2.30154928 -1.63850064  0.54109819]\n",
      " [ 0.88263719 -1.47928334  1.14873675  0.00542434]\n",
      " [-1.0348336  -0.80994499  0.79296326 -0.86348541]\n",
      " [-0.14275502  0.33282487  1.11915049  0.53843326]]\n",
      "------------\n",
      "[[False  True False  True]\n",
      " [ True False  True  True]\n",
      " [False False  True False]\n",
      " [False  True  True  True]]\n",
      "------------\n",
      "[[-1  1 -1  1]\n",
      " [ 1 -1  1  1]\n",
      " [-1 -1  1 -1]\n",
      " [-1  1  1  1]]\n",
      "------------\n"
     ]
    }
   ],
   "source": [
    "#expressoes logicas\n",
    "#usando where\n",
    "#cria matrizes com valores positivos e negativos\n",
    "\n",
    "v = np.random.randn(4,4)\n",
    "print(v)\n",
    "print(\"------------\")\n",
    "\n",
    "#cria matriz com valores bool baseado no array v\n",
    "#se v positivo, x ----> True, senao ---> False\n",
    "x = (v>0)\n",
    "print(x)\n",
    "print(\"------------\")\n",
    "\n",
    "#cria matriz com valores -1 e 1 baseado nos valores do array x\n",
    "#se x>0 ---> 1, senao ---> -1\n",
    "z = np.where(x>0, 1, -1)\n",
    "print(z)\n",
    "print(\"------------\")\n"
   ]
  },
  {
   "cell_type": "code",
   "execution_count": null,
   "id": "395dacfc-a24f-4f75-963e-0456e64c79a4",
   "metadata": {},
   "outputs": [],
   "source": []
  },
  {
   "cell_type": "code",
   "execution_count": null,
   "id": "f075774e-8e62-48d4-81fc-f6d865ae2f3f",
   "metadata": {},
   "outputs": [],
   "source": []
  }
 ],
 "metadata": {
  "kernelspec": {
   "display_name": "Python 3 (ipykernel)",
   "language": "python",
   "name": "python3"
  },
  "language_info": {
   "codemirror_mode": {
    "name": "ipython",
    "version": 3
   },
   "file_extension": ".py",
   "mimetype": "text/x-python",
   "name": "python",
   "nbconvert_exporter": "python",
   "pygments_lexer": "ipython3",
   "version": "3.12.7"
  }
 },
 "nbformat": 4,
 "nbformat_minor": 5
}
