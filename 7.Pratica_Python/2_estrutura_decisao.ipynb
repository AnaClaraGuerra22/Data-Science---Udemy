{
 "cells": [
  {
   "cell_type": "code",
   "execution_count": 10,
   "id": "9c0a59ba-642f-44fe-b227-7f26cba84c1d",
   "metadata": {},
   "outputs": [
    {
     "name": "stdin",
     "output_type": "stream",
     "text": [
      "Digite a nota:  3\n",
      "Digite a frequencia:  80\n"
     ]
    },
    {
     "name": "stdout",
     "output_type": "stream",
     "text": [
      "Reprovado\n"
     ]
    }
   ],
   "source": [
    "#estrutura de decisão\n",
    "\n",
    "nota = float(input(\"Digite a nota: \"))\n",
    "freq = int(input(\"Digite a frequencia: \"))\n",
    "\n",
    "if freq < 60 or nota < 4.0:\n",
    "    print(\"Reprovado\")\n",
    "elif nota >= 7.0:\n",
    "    print(\"Aprovado\")\n",
    "elif nota >= 4.0:\n",
    "    print(\"Exame final\")\n"
   ]
  },
  {
   "cell_type": "code",
   "execution_count": null,
   "id": "b6f44355-fe9c-4435-be4d-5eb19c77dca1",
   "metadata": {},
   "outputs": [],
   "source": []
  }
 ],
 "metadata": {
  "kernelspec": {
   "display_name": "Python 3 (ipykernel)",
   "language": "python",
   "name": "python3"
  },
  "language_info": {
   "codemirror_mode": {
    "name": "ipython",
    "version": 3
   },
   "file_extension": ".py",
   "mimetype": "text/x-python",
   "name": "python",
   "nbconvert_exporter": "python",
   "pygments_lexer": "ipython3",
   "version": "3.12.7"
  }
 },
 "nbformat": 4,
 "nbformat_minor": 5
}
