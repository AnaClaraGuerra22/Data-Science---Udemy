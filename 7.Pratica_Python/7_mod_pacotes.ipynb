{
 "cells": [
  {
   "cell_type": "code",
   "execution_count": 4,
   "id": "cc797b17-5e0c-4f11-b7d1-887b2fedb23d",
   "metadata": {},
   "outputs": [],
   "source": [
    "import statistics as est"
   ]
  },
  {
   "cell_type": "code",
   "execution_count": 49,
   "id": "d8ef4465-a3e1-4098-8faf-88cd76c558f3",
   "metadata": {},
   "outputs": [
    {
     "name": "stdout",
     "output_type": "stream",
     "text": [
      "A media:  29.17\n",
      "A mediana:  25.0\n",
      "A moda:  20\n",
      "O desvio padrao:  16.25\n",
      "A variancia:  264.17\n"
     ]
    }
   ],
   "source": [
    "z = [10, 20, 20,30,40,55]\n",
    "x = est.mean(z)\n",
    "x = round(x, 2) #arredonda para 2 casas decimais\n",
    "print(\"A media: \",x)\n",
    "y = est.median(z)\n",
    "print(\"A mediana: \",y)\n",
    "w = est.mode(z)\n",
    "print(\"A moda: \", w)\n",
    "i = round(est.stdev(z),2)   # arredonda para 2 casas decimais\n",
    "print(\"O desvio padrao: \", i)\n",
    "a = round(est.variance(z),2)\n",
    "print(\"A variancia: \", a)"
   ]
  },
  {
   "cell_type": "code",
   "execution_count": 26,
   "id": "a963d1f0-c19a-460a-9269-1eed6d0cc103",
   "metadata": {},
   "outputs": [
    {
     "name": "stdout",
     "output_type": "stream",
     "text": [
      "A media:  31\n",
      "A mediana:  30\n"
     ]
    }
   ],
   "source": [
    "#outras duas maneiras de importar a biblioteca\n",
    "#nao precisa do statistics para acessar a funçao da biblioteca\n",
    "from statistics import mean, median\n",
    "from statistics import *\n",
    "\n",
    "x = mean(z)\n",
    "print(\"A media: \",x)\n",
    "y = median(z)\n",
    "print(\"A mediana: \",y)\n"
   ]
  },
  {
   "cell_type": "code",
   "execution_count": null,
   "id": "29565488-5a87-4b66-8f81-f437907e063b",
   "metadata": {},
   "outputs": [],
   "source": []
  }
 ],
 "metadata": {
  "kernelspec": {
   "display_name": "Python 3 (ipykernel)",
   "language": "python",
   "name": "python3"
  },
  "language_info": {
   "codemirror_mode": {
    "name": "ipython",
    "version": 3
   },
   "file_extension": ".py",
   "mimetype": "text/x-python",
   "name": "python",
   "nbconvert_exporter": "python",
   "pygments_lexer": "ipython3",
   "version": "3.12.7"
  }
 },
 "nbformat": 4,
 "nbformat_minor": 5
}
