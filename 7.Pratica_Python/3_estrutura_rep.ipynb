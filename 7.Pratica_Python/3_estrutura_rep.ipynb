{
 "cells": [
  {
   "cell_type": "code",
   "execution_count": 30,
   "id": "18a19dc7-b275-441a-a7ce-ddaad16762ca",
   "metadata": {},
   "outputs": [
    {
     "name": "stdout",
     "output_type": "stream",
     "text": [
      "Resultado do while: \n",
      "0\n",
      "1\n",
      "2\n",
      "3\n",
      "4\n",
      "5\n",
      "6\n",
      "7\n",
      "8\n",
      "9\n",
      "10\n",
      "Resultado do for: \n",
      "10\n",
      "9\n",
      "8\n",
      "7\n",
      "6\n",
      "5\n",
      "4\n",
      "3\n",
      "2\n",
      "1\n",
      "0\n",
      "Resultado do segundo for: \n",
      "0\n",
      "1\n",
      "2\n",
      "3\n",
      "4\n",
      "5\n",
      "6\n",
      "7\n",
      "8\n",
      "9\n",
      "10\n",
      "Resultado do terceiro for: \n",
      "0\n",
      "1\n",
      "2\n",
      "3\n",
      "4\n",
      "5\n",
      "6\n",
      "7\n",
      "8\n",
      "9\n",
      "10\n"
     ]
    }
   ],
   "source": [
    "#estrutura de repetição\n",
    "#ir do 10 ao 0 ou do 0 ao 10\n",
    "\n",
    "\n",
    "count = 0\n",
    "print(\"Resultado do while: \")\n",
    "while count <=10:\n",
    "    print(count)\n",
    "    count+=1\n",
    "\n",
    "print(\"Resultado do for: \")\n",
    "for n in range(10,-1,-1):\n",
    "    print(n)\n",
    "\n",
    "print(\"Resultado do segundo for: \")\n",
    "for n in range(-1,10):\n",
    "    print(n+1)\n",
    "\n",
    "print(\"Resultado do terceiro for: \")\n",
    "for n in range(0,11,1):\n",
    "    print(n)"
   ]
  },
  {
   "cell_type": "code",
   "execution_count": 32,
   "id": "df11602c-21a8-4990-98b1-bab4bed9d860",
   "metadata": {},
   "outputs": [
    {
     "name": "stdout",
     "output_type": "stream",
     "text": [
      "1\n",
      "3\n",
      "5\n",
      "7\n",
      "9\n",
      "11\n",
      "13\n",
      "15\n",
      "17\n",
      "19\n"
     ]
    }
   ],
   "source": [
    "#use \"continue\" para imprimir so impares\n",
    "for n in range(0,20):\n",
    "    if(n%2==0):\n",
    "        continue\n",
    "    print(n)\n",
    "\n"
   ]
  },
  {
   "cell_type": "code",
   "execution_count": null,
   "id": "efdfa014-ec0d-44ee-b817-e4d859672af4",
   "metadata": {},
   "outputs": [],
   "source": []
  }
 ],
 "metadata": {
  "kernelspec": {
   "display_name": "Python 3 (ipykernel)",
   "language": "python",
   "name": "python3"
  },
  "language_info": {
   "codemirror_mode": {
    "name": "ipython",
    "version": 3
   },
   "file_extension": ".py",
   "mimetype": "text/x-python",
   "name": "python",
   "nbconvert_exporter": "python",
   "pygments_lexer": "ipython3",
   "version": "3.12.7"
  }
 },
 "nbformat": 4,
 "nbformat_minor": 5
}
