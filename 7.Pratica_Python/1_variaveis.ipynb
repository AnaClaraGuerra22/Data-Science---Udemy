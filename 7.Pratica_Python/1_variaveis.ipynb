{
 "cells": [
  {
   "cell_type": "code",
   "execution_count": 4,
   "id": "d22e3d00-89bd-41f7-84c4-a772bed660ea",
   "metadata": {},
   "outputs": [
    {
     "name": "stdout",
     "output_type": "stream",
     "text": [
      "1\n",
      "3.14\n",
      "Variavel string\n",
      "True\n"
     ]
    }
   ],
   "source": [
    "#cria variaveis\n",
    "\n",
    "x=1\n",
    "print(x)\n",
    "\n",
    "y=3.14\n",
    "print(y)\n",
    "\n",
    "z= \"Variavel string\"\n",
    "print(z)\n",
    "\n",
    "w = True\n",
    "print(w)"
   ]
  },
  {
   "cell_type": "code",
   "execution_count": 8,
   "id": "728ff48a-7b1e-421a-8391-0a6a01e4f656",
   "metadata": {},
   "outputs": [
    {
     "name": "stdout",
     "output_type": "stream",
     "text": [
      "30.0\n"
     ]
    }
   ],
   "source": [
    "#calculadora\n",
    "x=10\n",
    "y=20\n",
    "z=100\n",
    "w=(x+y)*z/100\n",
    "print(w)"
   ]
  },
  {
   "cell_type": "code",
   "execution_count": 10,
   "id": "576b9d76-4293-4cbc-a144-8e1af020731b",
   "metadata": {},
   "outputs": [
    {
     "name": "stdout",
     "output_type": "stream",
     "text": [
      "Este texto sera impresso\n",
      "10\n",
      "Texto e duas variaveis:  10 , 100\n"
     ]
    }
   ],
   "source": [
    "#exibir texto e variaveis\n",
    "print(\"Este texto sera impresso\")\n",
    "print(x)\n",
    "print(\"Texto e duas variaveis: \", x, \",\", z)"
   ]
  },
  {
   "cell_type": "code",
   "execution_count": 16,
   "id": "f4ff39a3-4eac-4098-bdd0-b2cfd2a08f3d",
   "metadata": {},
   "outputs": [
    {
     "name": "stdout",
     "output_type": "stream",
     "text": [
      "<class 'int'>\n",
      "<class 'int'>\n",
      "<class 'float'>\n"
     ]
    }
   ],
   "source": [
    "#verificar tipo\n",
    "print(type(x))\n",
    "print(type(y))\n",
    "print(type(w))"
   ]
  },
  {
   "cell_type": "code",
   "execution_count": 30,
   "id": "7ead48d1-79e8-426a-84ca-a28910ac1f47",
   "metadata": {},
   "outputs": [
    {
     "name": "stdout",
     "output_type": "stream",
     "text": [
      "Informe o valor: \n"
     ]
    },
    {
     "name": "stdin",
     "output_type": "stream",
     "text": [
      " 8\n"
     ]
    },
    {
     "name": "stdout",
     "output_type": "stream",
     "text": [
      "<class 'str'>\n",
      "<class 'int'>\n",
      "Informe outro valor: \n"
     ]
    },
    {
     "name": "stdin",
     "output_type": "stream",
     "text": [
      " 10\n"
     ]
    },
    {
     "name": "stdout",
     "output_type": "stream",
     "text": [
      "<class 'float'>\n",
      "10.0\n"
     ]
    }
   ],
   "source": [
    "#entrada de dados\n",
    "print(\"Informe o valor: \")\n",
    "i= input()\n",
    "\n",
    "#mostra tipo string\n",
    "print(type(i))\n",
    "\n",
    "#converte para inteiro\n",
    "i = int(i)\n",
    "print(type(i))\n",
    "\n",
    "print(\"Informe outro valor: \")\n",
    "t= float(input())\n",
    "print(type(t))\n",
    "print(t)"
   ]
  },
  {
   "cell_type": "code",
   "execution_count": 26,
   "id": "914b711c-9968-4249-9b87-e405da2580e2",
   "metadata": {},
   "outputs": [
    {
     "name": "stdin",
     "output_type": "stream",
     "text": [
      "Informe outro valor:  oiii\n"
     ]
    },
    {
     "name": "stdout",
     "output_type": "stream",
     "text": [
      "oiii\n"
     ]
    }
   ],
   "source": [
    "#entrada com mensagem junto\n",
    "i = input(\"Informe outro valor: \")\n",
    "print(i)"
   ]
  },
  {
   "cell_type": "code",
   "execution_count": null,
   "id": "df0a436f-93ea-4333-ae65-3ea80f7ed65e",
   "metadata": {},
   "outputs": [],
   "source": []
  }
 ],
 "metadata": {
  "kernelspec": {
   "display_name": "Python 3 (ipykernel)",
   "language": "python",
   "name": "python3"
  },
  "language_info": {
   "codemirror_mode": {
    "name": "ipython",
    "version": 3
   },
   "file_extension": ".py",
   "mimetype": "text/x-python",
   "name": "python",
   "nbconvert_exporter": "python",
   "pygments_lexer": "ipython3",
   "version": "3.12.7"
  }
 },
 "nbformat": 4,
 "nbformat_minor": 5
}
