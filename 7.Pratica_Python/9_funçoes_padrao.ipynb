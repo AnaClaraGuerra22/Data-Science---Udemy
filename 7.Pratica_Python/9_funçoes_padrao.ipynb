{
 "cells": [
  {
   "cell_type": "code",
   "execution_count": 20,
   "id": "d4c9e2fb-0bf4-4cd8-89b5-ce3bd28dbfcf",
   "metadata": {},
   "outputs": [
    {
     "name": "stdout",
     "output_type": "stream",
     "text": [
      "Valor absoluto:  100\n",
      "Maior valor:  40\n",
      "Menor valor:  -1\n",
      "Soma:  99\n",
      "\n",
      "\n",
      "Arredondamento:  2.37\n"
     ]
    }
   ],
   "source": [
    "#funções internas\n",
    "\n",
    "#abs: retorna o valor absoluto\n",
    "print(\"Valor absoluto: \", abs(-100))\n",
    "lst = [-1, 10, 20, 30, 40]\n",
    "print(\"Maior valor: \", max(lst))\n",
    "print(\"Menor valor: \", min(lst))\n",
    "print(\"Soma: \", sum(lst))\n",
    "\n",
    "print(\"\\n\")\n",
    "      \n",
    "#Arredonda um valor de 5 casas decimais para 2\n",
    "print(\"Arredondamento: \", round(2.36724, 2))"
   ]
  },
  {
   "cell_type": "code",
   "execution_count": 28,
   "id": "edf82af6-c869-4f12-b86d-eada105b3a32",
   "metadata": {},
   "outputs": [
    {
     "name": "stdout",
     "output_type": "stream",
     "text": [
      "<class 'numpy.ndarray'>\n",
      "[[0.84224016 0.15277064 0.37139183 0.65398419 0.41843167 0.3129534\n",
      "  0.9016504  0.79568588]\n",
      " [0.08521961 0.02393127 0.95570947 0.78073806 0.19519855 0.66885115\n",
      "  0.8618331  0.80027479]\n",
      " [0.89984803 0.59638256 0.26980415 0.41872614 0.45053096 0.41390691\n",
      "  0.46537247 0.48547158]\n",
      " [0.63483903 0.9035866  0.02392561 0.16321693 0.94442506 0.84444215\n",
      "  0.16680093 0.17308881]\n",
      " [0.23558508 0.13143788 0.11021317 0.60096113 0.98470569 0.15546897\n",
      "  0.91382661 0.27715479]\n",
      " [0.22548663 0.82060479 0.89967451 0.75173322 0.3758938  0.65231025\n",
      "  0.43046734 0.84777198]\n",
      " [0.86760833 0.84209827 0.13190958 0.9209419  0.00134026 0.58879781\n",
      "  0.53471135 0.9178515 ]\n",
      " [0.13110849 0.78875459 0.03905567 0.93169631 0.12044834 0.23596329\n",
      "  0.26438357 0.57783498]]\n"
     ]
    }
   ],
   "source": [
    "from numpy import *\n",
    "#cria matriz aleatoria 8x8\n",
    "a = random.random((8,8))\n",
    "print(type(a))\n",
    "print(a)"
   ]
  },
  {
   "cell_type": "code",
   "execution_count": null,
   "id": "61f8cb58-d9e6-44fa-985c-eadec9f04fa9",
   "metadata": {},
   "outputs": [],
   "source": []
  }
 ],
 "metadata": {
  "kernelspec": {
   "display_name": "Python 3 (ipykernel)",
   "language": "python",
   "name": "python3"
  },
  "language_info": {
   "codemirror_mode": {
    "name": "ipython",
    "version": 3
   },
   "file_extension": ".py",
   "mimetype": "text/x-python",
   "name": "python",
   "nbconvert_exporter": "python",
   "pygments_lexer": "ipython3",
   "version": "3.12.7"
  }
 },
 "nbformat": 4,
 "nbformat_minor": 5
}
