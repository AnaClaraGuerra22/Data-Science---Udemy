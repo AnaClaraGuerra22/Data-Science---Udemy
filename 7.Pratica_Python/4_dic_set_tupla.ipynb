{
 "cells": [
  {
   "cell_type": "code",
   "execution_count": 13,
   "id": "142b9552-68a5-4fd4-b173-ae057bf1f4a0",
   "metadata": {},
   "outputs": [
    {
     "name": "stdout",
     "output_type": "stream",
     "text": [
      "{'João': 6.0, 'Maria': 8.0, 'Pedro': 6.5}\n",
      "6.0\n"
     ]
    },
    {
     "data": {
      "text/plain": [
       "dict_keys(['João', 'Maria', 'Pedro'])"
      ]
     },
     "execution_count": 13,
     "metadata": {},
     "output_type": "execute_result"
    }
   ],
   "source": [
    "# DICIONARIOS : CONJ CHAVE VALOR\n",
    "notas = {\"João\": 6.0, \"Maria\": 8.0, \"Pedro\": 6.5}\n",
    "print(notas)\n",
    "\n",
    "print(notas[\"João\"])\n",
    "\n",
    "#todas as 'chaves\" --> nomes\n",
    "notas.keys()"
   ]
  },
  {
   "cell_type": "code",
   "execution_count": 15,
   "id": "c73f77ec-bacb-4873-8a30-8daf89178f69",
   "metadata": {},
   "outputs": [
    {
     "data": {
      "text/plain": [
       "dict_values([6.0, 8.0, 6.5])"
      ]
     },
     "execution_count": 15,
     "metadata": {},
     "output_type": "execute_result"
    }
   ],
   "source": [
    "#todas os valores --> notas\n",
    "notas.values()"
   ]
  },
  {
   "cell_type": "code",
   "execution_count": 17,
   "id": "a93dc059-cbea-4266-ad8b-bba63adad8cd",
   "metadata": {},
   "outputs": [
    {
     "name": "stdout",
     "output_type": "stream",
     "text": [
      "True\n",
      "False\n"
     ]
    }
   ],
   "source": [
    "#testa logicamente a existencia\n",
    "print(\"João\" in notas)\n",
    "print(\"Fernando\" in notas)"
   ]
  },
  {
   "cell_type": "code",
   "execution_count": 19,
   "id": "ca62e96b-cca6-426c-82c2-5c5b319ec1d5",
   "metadata": {},
   "outputs": [
    {
     "name": "stdout",
     "output_type": "stream",
     "text": [
      "{'Maria': 8.0, 'Pedro': 6.5}\n"
     ]
    }
   ],
   "source": [
    "#apaga um elemento\n",
    "del notas[\"João\"]\n",
    "print(notas)"
   ]
  },
  {
   "cell_type": "code",
   "execution_count": 21,
   "id": "bec3f3b2-ebe6-49d9-8890-d9e172b37bcd",
   "metadata": {},
   "outputs": [
    {
     "name": "stdout",
     "output_type": "stream",
     "text": [
      "{'Maria': 8.0, 'Pedro': 6.5, 'Ana': 10.0}\n"
     ]
    }
   ],
   "source": [
    "#inclui um elemento\n",
    "notas[\"Ana\"] = 10.0\n",
    "print(notas)"
   ]
  },
  {
   "cell_type": "code",
   "execution_count": 27,
   "id": "761400b8-466e-41e1-b4dc-d0b3f5043657",
   "metadata": {},
   "outputs": [
    {
     "data": {
      "text/plain": [
       "10.0"
      ]
     },
     "execution_count": 27,
     "metadata": {},
     "output_type": "execute_result"
    }
   ],
   "source": [
    "#busca um valor, se nao encontrar, mostra a segunda mensagem\n",
    "notas.get(\"Ana Julia\", \"Não encontrado\")\n",
    "notas.get(\"Ana\", \"Não encontrado\")"
   ]
  },
  {
   "cell_type": "code",
   "execution_count": 29,
   "id": "b629dd71-b39f-451a-a446-26b8c94d1872",
   "metadata": {},
   "outputs": [
    {
     "name": "stdout",
     "output_type": "stream",
     "text": [
      "{'Sqoop', 'Spark', 'Hive'}\n"
     ]
    }
   ],
   "source": [
    "#SETS : CONJ NAO ORDENADO DE ELEMENTOS NAO REPETIDOS\n",
    "\n",
    "bigdata = {\"Spark\", \"Hive\", \"Sqoop\"}\n",
    "print(bigdata)"
   ]
  },
  {
   "cell_type": "code",
   "execution_count": 31,
   "id": "714589ed-81b7-4c9f-9a80-9194883d414a",
   "metadata": {},
   "outputs": [
    {
     "name": "stdout",
     "output_type": "stream",
     "text": [
      "True\n"
     ]
    }
   ],
   "source": [
    "#verifica a existencia\n",
    "print(\"Spark\" in bigdata)"
   ]
  },
  {
   "cell_type": "code",
   "execution_count": 39,
   "id": "45e5ddc9-cb6c-4608-b0e2-26de9145ab98",
   "metadata": {},
   "outputs": [
    {
     "name": "stdout",
     "output_type": "stream",
     "text": [
      "{'Sqoop', 'Spark', 'Hive', 'Hadoop'}\n",
      "4\n"
     ]
    }
   ],
   "source": [
    "#adiciona elemento\n",
    "bigdata.add('Hadoop')\n",
    "print(bigdata)\n",
    "print(len(bigdata))"
   ]
  },
  {
   "cell_type": "code",
   "execution_count": 41,
   "id": "2874ae1a-4851-4bb1-bf83-8918777c089d",
   "metadata": {},
   "outputs": [
    {
     "name": "stdout",
     "output_type": "stream",
     "text": [
      "{'Sqoop', 'Spark', 'Hive', 'Hadoop'}\n",
      "4\n"
     ]
    }
   ],
   "source": [
    "#nao vai adicionar elemento repetido\n",
    "bigdata.add('Hive')\n",
    "print(bigdata)\n",
    "print(len(bigdata))"
   ]
  },
  {
   "cell_type": "code",
   "execution_count": 45,
   "id": "cdcad97a-42d8-418e-8716-ea6c5d65cbaa",
   "metadata": {},
   "outputs": [
    {
     "data": {
      "text/plain": [
       "5"
      ]
     },
     "execution_count": 45,
     "metadata": {},
     "output_type": "execute_result"
    }
   ],
   "source": [
    "# TUPLAS: LISTAS IMUTAVEIS\n",
    "#listas usam [], tuplas usam ()\n",
    "tupla = (1,2,3,4,5,6)\n",
    "tupla\n"
   ]
  },
  {
   "cell_type": "code",
   "execution_count": 47,
   "id": "0616fda2-971d-4c8d-bb60-3f7d237db1d0",
   "metadata": {},
   "outputs": [
    {
     "data": {
      "text/plain": [
       "5"
      ]
     },
     "execution_count": 47,
     "metadata": {},
     "output_type": "execute_result"
    }
   ],
   "source": [
    "tupla[4]"
   ]
  },
  {
   "cell_type": "code",
   "execution_count": 51,
   "id": "3ad5d288-a0d9-463f-974b-63f8a1eef6f4",
   "metadata": {},
   "outputs": [
    {
     "name": "stdout",
     "output_type": "stream",
     "text": [
      "{(0, 1): 0, (1, 2): 1, (2, 3): 2, (3, 4): 3}\n"
     ]
    },
    {
     "data": {
      "text/plain": [
       "dict_keys([(0, 1), (1, 2), (2, 3), (3, 4)])"
      ]
     },
     "execution_count": 51,
     "metadata": {},
     "output_type": "execute_result"
    }
   ],
   "source": [
    "# DICIONARIOS QUE CADA POSIÇÃO RECEBE UMA TUPLA\n",
    "\n",
    "dic2 = {(0,1) : 0, (1,2) : 1, (2,3) : 2, (3,4) : 3}\n",
    "print(dic2)\n",
    "print(dic2.keys())\n",
    "print(dic2.values()\n"
   ]
  },
  {
   "cell_type": "code",
   "execution_count": null,
   "id": "6d27fbea-1dbe-4ac0-b739-5a36d09976c2",
   "metadata": {},
   "outputs": [],
   "source": []
  }
 ],
 "metadata": {
  "kernelspec": {
   "display_name": "Python 3 (ipykernel)",
   "language": "python",
   "name": "python3"
  },
  "language_info": {
   "codemirror_mode": {
    "name": "ipython",
    "version": 3
   },
   "file_extension": ".py",
   "mimetype": "text/x-python",
   "name": "python",
   "nbconvert_exporter": "python",
   "pygments_lexer": "ipython3",
   "version": "3.12.7"
  }
 },
 "nbformat": 4,
 "nbformat_minor": 5
}
